{
 "cells": [
  {
   "cell_type": "code",
   "execution_count": 2,
   "metadata": {},
   "outputs": [
    {
     "name": "stderr",
     "output_type": "stream",
     "text": [
      "<ipython-input-2-4ac13dc896c7>:25: FutureWarning: Passing a negative integer is deprecated in version 1.0 and will not be supported in future version. Instead, use None to not limit the column width.\n",
      "  pd.set_option('display.max_colwidth', -1)\n"
     ]
    }
   ],
   "source": [
    "# setting up libraries\n",
    "import os\n",
    "import pandas as pd\n",
    "import numpy as np\n",
    "import matplotlib.pyplot as plt\n",
    "import seaborn as sns\n",
    "from scipy.stats import norm \n",
    "import statistics\n",
    "from sklearn.metrics import matthews_corrcoef\n",
    "from scipy.stats import chi2_contingency\n",
    "import math\n",
    "from patsy import dmatrices\n",
    "from statsmodels.stats.outliers_influence import variance_inflation_factor\n",
    "from sklearn.ensemble import IsolationForest\n",
    "from scipy.stats import zscore\n",
    "\n",
    "import re\n",
    "import nltk\n",
    "import spacy\n",
    "import string\n",
    "\n",
    "pd.set_option('display.max_rows', None)\n",
    "pd.set_option('display.max_columns', None)\n",
    "pd.set_option('display.width', None)\n",
    "pd.set_option('display.max_colwidth', -1)\n",
    "\n",
    "%matplotlib inline"
   ]
  },
  {
   "cell_type": "code",
   "execution_count": 3,
   "metadata": {},
   "outputs": [
    {
     "name": "stdout",
     "output_type": "stream",
     "text": [
      "(209, 2)\n"
     ]
    },
    {
     "data": {
      "text/html": [
       "<div>\n",
       "<style scoped>\n",
       "    .dataframe tbody tr th:only-of-type {\n",
       "        vertical-align: middle;\n",
       "    }\n",
       "\n",
       "    .dataframe tbody tr th {\n",
       "        vertical-align: top;\n",
       "    }\n",
       "\n",
       "    .dataframe thead th {\n",
       "        text-align: right;\n",
       "    }\n",
       "</style>\n",
       "<table border=\"1\" class=\"dataframe\">\n",
       "  <thead>\n",
       "    <tr style=\"text-align: right;\">\n",
       "      <th></th>\n",
       "      <th>abstract</th>\n",
       "      <th>size</th>\n",
       "    </tr>\n",
       "  </thead>\n",
       "  <tbody>\n",
       "    <tr>\n",
       "      <th>0</th>\n",
       "      <td>industry. As the aviation industry grows rapidly to meet the requirements of the increased applications in the aviation sector has been increased sharply in recent years. Among the various clean power sources, energy obtained from hydrogen is considered the future for energy generation in the aviation industry due to its cleanness and abundance. This paper aims to give an overview of the potential aviation applications where hydrogen and fuel cell</td>\n",
       "      <td>451</td>\n",
       "    </tr>\n",
       "    <tr>\n",
       "      <th>1</th>\n",
       "      <td>STATUTO Interpretation Act 1889{b) applies to lhe interpretation of these fluidised char binderless briquettes manufactured by the National Coal Government on 22nd July 1963. (1..5.) their .f!enerai purport.) 11 of the Clean Air Act 1956 makes it an offence to emit smoke any building in a smoke control area unless it can be shown that the TheseRegulations declare the fuel mentioned therein to be TIIREEPENCB NeT</td>\n",
       "      <td>414</td>\n",
       "    </tr>\n",
       "    <tr>\n",
       "      <th>2</th>\n",
       "      <td>in the aviation sector has been increased sharply in recent years. Among the various clean power sources, energy obtained from hydrogen is considered the future for energy generation in the aviation industry due to its cleanness and abundance. This paper aims to give an overview of the potential aviation applications where hydrogen and fuel cell technology can be used. Also, the major challenges that limit the wide adoption of hydrogen technology in aviation are highlighted and future research prospects are identified.</td>\n",
       "      <td>524</td>\n",
       "    </tr>\n",
       "    <tr>\n",
       "      <th>3</th>\n",
       "      <td>Worker movements played a crucial role in making workplaces safer. Workplace safety is costly for firms but increases labour supply. A laissez-faire approach leaving safety of workplaces unknown is suboptimal. Safety standards set by better-informed trade unions are output and welfare increasing. Trade between a country with trade unions (the North) and a union-free country (the South) can imply a reduction in work standards in the North. When trade unions are established in the South, the North, including northern unions, tend to lose. Quantitatively, these effects are small and overcompensated by gains in the South.</td>\n",
       "      <td>625</td>\n",
       "    </tr>\n",
       "    <tr>\n",
       "      <th>4</th>\n",
       "      <td>-Cloud computing and its pay-as-you-go model continue to provide significant cost benefits and a seamless service delivery model for cloud consumers. The evolution of small-scale and large-scale geo-distributed datacenters operated and managed by individual cloud service providers raises new challenges in terms of effective global resource sharing and management of autonomously-controlled individual datacenter resources. Earlier solutions for geo-distributed clouds have focused primarily on achieving global efficiency in resource sharing that results in significant inefficiencies in local resource allocation for individual datacenters leading to unfairness in revenue and profit earned. In this paper, we propose a new contracts-based resource sharing model for federated geo-distributed clouds that allows cloud service providers to establish resource sharing contracts with individual datacenters apriori for defined time intervals during a 24 hour time period. Based on the established contracts, individual cloud service providers employ a cost-aware job scheduling and provisioning algorithm that enables tasks to complete and meet their response time requirements. The proposed techniques are evaluated through extensive experiments using realistic workloads and the results demonstrate the effectiveness, scalability and resource sharing efficiency of the proposed model.</td>\n",
       "      <td>1386</td>\n",
       "    </tr>\n",
       "  </tbody>\n",
       "</table>\n",
       "</div>"
      ],
      "text/plain": [
       "                                                                                                                                                                                                                                                                                                                                                                                                                                                                                                                                                                                                                                                                                                                                                                                                                                                                                                                                                                                                                                                                                                                                                                                                                                                                                                                                                                                                                                     abstract  \\\n",
       "0  industry. As the aviation industry grows rapidly to meet the requirements of the increased applications in the aviation sector has been increased sharply in recent years. Among the various clean power sources, energy obtained from hydrogen is considered the future for energy generation in the aviation industry due to its cleanness and abundance. This paper aims to give an overview of the potential aviation applications where hydrogen and fuel cell                                                                                                                                                                                                                                                                                                                                                                                                                                                                                                                                                                                                                                                                                                                                                                                                                                                                                                                                                                          \n",
       "1  STATUTO Interpretation Act 1889{b) applies to lhe interpretation of these fluidised char binderless briquettes manufactured by the National Coal Government on 22nd July 1963. (1..5.) their .f!enerai purport.) 11 of the Clean Air Act 1956 makes it an offence to emit smoke any building in a smoke control area unless it can be shown that the TheseRegulations declare the fuel mentioned therein to be TIIREEPENCB NeT                                                                                                                                                                                                                                                                                                                                                                                                                                                                                                                                                                                                                                                                                                                                                                                                                                                                                                                                                                                                               \n",
       "2  in the aviation sector has been increased sharply in recent years. Among the various clean power sources, energy obtained from hydrogen is considered the future for energy generation in the aviation industry due to its cleanness and abundance. This paper aims to give an overview of the potential aviation applications where hydrogen and fuel cell technology can be used. Also, the major challenges that limit the wide adoption of hydrogen technology in aviation are highlighted and future research prospects are identified.                                                                                                                                                                                                                                                                                                                                                                                                                                                                                                                                                                                                                                                                                                                                                                                                                                                                                                 \n",
       "3  Worker movements played a crucial role in making workplaces safer. Workplace safety is costly for firms but increases labour supply. A laissez-faire approach leaving safety of workplaces unknown is suboptimal. Safety standards set by better-informed trade unions are output and welfare increasing. Trade between a country with trade unions (the North) and a union-free country (the South) can imply a reduction in work standards in the North. When trade unions are established in the South, the North, including northern unions, tend to lose. Quantitatively, these effects are small and overcompensated by gains in the South.                                                                                                                                                                                                                                                                                                                                                                                                                                                                                                                                                                                                                                                                                                                                                                                            \n",
       "4  -Cloud computing and its pay-as-you-go model continue to provide significant cost benefits and a seamless service delivery model for cloud consumers. The evolution of small-scale and large-scale geo-distributed datacenters operated and managed by individual cloud service providers raises new challenges in terms of effective global resource sharing and management of autonomously-controlled individual datacenter resources. Earlier solutions for geo-distributed clouds have focused primarily on achieving global efficiency in resource sharing that results in significant inefficiencies in local resource allocation for individual datacenters leading to unfairness in revenue and profit earned. In this paper, we propose a new contracts-based resource sharing model for federated geo-distributed clouds that allows cloud service providers to establish resource sharing contracts with individual datacenters apriori for defined time intervals during a 24 hour time period. Based on the established contracts, individual cloud service providers employ a cost-aware job scheduling and provisioning algorithm that enables tasks to complete and meet their response time requirements. The proposed techniques are evaluated through extensive experiments using realistic workloads and the results demonstrate the effectiveness, scalability and resource sharing efficiency of the proposed model.   \n",
       "\n",
       "   size  \n",
       "0  451   \n",
       "1  414   \n",
       "2  524   \n",
       "3  625   \n",
       "4  1386  "
      ]
     },
     "execution_count": 3,
     "metadata": {},
     "output_type": "execute_result"
    }
   ],
   "source": [
    "# Reading the dataset\n",
    "df = pd.read_excel(\"list_of_abstracts.cleaned.xlsx\")\n",
    "# already removed non-English abstract\n",
    "print(df.shape)\n",
    "df.head()"
   ]
  },
  {
   "cell_type": "code",
   "execution_count": 4,
   "metadata": {},
   "outputs": [],
   "source": [
    "## (1) Convert to lower cases\n",
    "df[\"abstract_new\"] = df[\"abstract\"].apply(lambda x: ' '.join([word.lower() for word in x.split() ]))"
   ]
  },
  {
   "cell_type": "code",
   "execution_count": 6,
   "metadata": {},
   "outputs": [],
   "source": [
    "# (2) Remove words with a length below 3 characters\n",
    "df[\"abstract_new\"] = df[\"abstract_new\"].apply(lambda x: ' '.join([word for word in x.split() if len(word) > 2 ]))"
   ]
  },
  {
   "cell_type": "code",
   "execution_count": 8,
   "metadata": {},
   "outputs": [],
   "source": [
    "## (3) Removal of URL's\n",
    "def remove_urls(text):\n",
    "    url_pattern = re.compile(r'https?://\\S+|www\\.\\S+')\n",
    "        # remove words starting with https and with www\n",
    "    return url_pattern.sub(r'', text)\n",
    "\n",
    "df['abstract_new'] = df['abstract_new'].apply(remove_urls)"
   ]
  },
  {
   "cell_type": "code",
   "execution_count": 10,
   "metadata": {},
   "outputs": [],
   "source": [
    "# (4) Replace multiple white spaces with one white space\n",
    "\n",
    "df[\"abstract_new\"] = df[\"abstract_new\"].apply(lambda x: ' '.join([word for word in x.split() ]))"
   ]
  },
  {
   "cell_type": "code",
   "execution_count": 12,
   "metadata": {},
   "outputs": [],
   "source": [
    "# (5) Remove numbers (how to judge if the number is relevant??)\n",
    "\n",
    "df[\"abstract_new\"] = df[\"abstract_new\"].apply(lambda x: ' '.join([word for word in x.split() if not word.isdigit()]))"
   ]
  },
  {
   "cell_type": "code",
   "execution_count": 14,
   "metadata": {},
   "outputs": [
    {
     "name": "stderr",
     "output_type": "stream",
     "text": [
      "<ipython-input-14-69b95c2c4cde>:2: FutureWarning: The default value of regex will change from True to False in a future version.\n",
      "  df['abstract_new'] = df.abstract_new.str.replace(r'\\S*\\d\\S*','')\n"
     ]
    }
   ],
   "source": [
    "# (6) Remove words contain number\n",
    "df['abstract_new'] = df.abstract_new.str.replace(r'\\S*\\d\\S*','')"
   ]
  },
  {
   "cell_type": "code",
   "execution_count": 15,
   "metadata": {},
   "outputs": [
    {
     "name": "stderr",
     "output_type": "stream",
     "text": [
      "<ipython-input-15-c31066c51735>:2: FutureWarning: The default value of regex will change from True to False in a future version.\n",
      "  df['abstract_new'] = df['abstract_new'].str.replace('[^\\w\\s]','')\n"
     ]
    }
   ],
   "source": [
    "# (7) Remove all punctuations (for example, parenthesis, comma, period, etc.) \n",
    "df['abstract_new'] = df['abstract_new'].str.replace('[^\\w\\s]','')"
   ]
  },
  {
   "cell_type": "code",
   "execution_count": 17,
   "metadata": {},
   "outputs": [],
   "source": [
    "# (8) Remove Emails\n",
    "df['abstract_new']=df[\"abstract_new\"].apply(lambda x: ''.join([re.sub('\\S*@\\S*\\s?','', word) for word in x]))"
   ]
  },
  {
   "cell_type": "code",
   "execution_count": 18,
   "metadata": {},
   "outputs": [],
   "source": [
    "# (9) Remove new line characters\n",
    "df['abstract_new'] = df['abstract_new'].apply(lambda x: \"\".join([re.sub('\\s+',' ', word) for word in x]))"
   ]
  },
  {
   "cell_type": "code",
   "execution_count": 19,
   "metadata": {},
   "outputs": [],
   "source": [
    "# (10) Remove distracting single quotes\n",
    "df[\"abstract_new\"] = df[\"abstract_new\"].apply(lambda x: ''.join([re.sub(\"\\'\",\"\", word) for word in x]))"
   ]
  },
  {
   "cell_type": "code",
   "execution_count": 21,
   "metadata": {},
   "outputs": [],
   "source": [
    "# (11) Spelling Correction ... take longer time to run\n",
    "# Spell check using text blob\n",
    "from textblob import TextBlob\n",
    "\n",
    "df['abstract_new'] = df['abstract_new'].apply(lambda x: str(TextBlob(x).correct()))"
   ]
  },
  {
   "cell_type": "code",
   "execution_count": 23,
   "metadata": {},
   "outputs": [],
   "source": [
    "# (12) Expand contractions \n",
    "import contractions\n",
    "\n",
    "df[\"abstract_new\"] = df[\"abstract_new\"].apply(lambda x: ' '.join([contractions.fix(word) for word in x.split() ]))"
   ]
  },
  {
   "cell_type": "code",
   "execution_count": 25,
   "metadata": {},
   "outputs": [
    {
     "name": "stderr",
     "output_type": "stream",
     "text": [
      "[nltk_data] Downloading package stopwords to /Users/djoko/nltk_data...\n",
      "[nltk_data]   Package stopwords is already up-to-date!\n"
     ]
    }
   ],
   "source": [
    "# (13) remove stopwords (the, to be, etc.)\n",
    "nltk.download('stopwords')\n",
    "\n",
    "from nltk.corpus import stopwords\n",
    "\n",
    "STOPWORDS = stopwords.words('english')"
   ]
  },
  {
   "cell_type": "code",
   "execution_count": 27,
   "metadata": {},
   "outputs": [],
   "source": [
    "# increase more stop words .... according to the domain expert!!\n",
    "\n",
    "STOPWORDS.extend(['from', 'subject', 're', 'edu', 'use'])\n",
    "STOPWORDS.extend(['auther','paper','review','datum','output','input','result','analysis','case'])"
   ]
  },
  {
   "cell_type": "code",
   "execution_count": 29,
   "metadata": {},
   "outputs": [],
   "source": [
    "# Function to remove the stopwords\n",
    "def stopwords(text):\n",
    "    return \" \".join([word for word in str(text).split() if word not in STOPWORDS])\n",
    "\n",
    "# Applying the stopwords to 'abstract'\n",
    "df[\"abstract_new\"] = df[\"abstract_new\"].apply(stopwords)"
   ]
  },
  {
   "cell_type": "code",
   "execution_count": 31,
   "metadata": {},
   "outputs": [
    {
     "name": "stderr",
     "output_type": "stream",
     "text": [
      "[nltk_data] Downloading package wordnet to /Users/djoko/nltk_data...\n",
      "[nltk_data]   Package wordnet is already up-to-date!\n"
     ]
    }
   ],
   "source": [
    "# (14) Lemmatization (convert words into its base form)\n",
    "nltk.download('wordnet')\n",
    "from nltk.stem.wordnet import WordNetLemmatizer\n",
    "\n",
    "lmtzr =  WordNetLemmatizer()\n",
    "df[\"abstract_new\"] = df[\"abstract_new\"].apply(lambda x: ' '.join([lmtzr.lemmatize(word,'v') for word in x.split() ]))"
   ]
  },
  {
   "cell_type": "code",
   "execution_count": 33,
   "metadata": {},
   "outputs": [],
   "source": [
    "# (15) Stemming \n",
    "\n",
    "from nltk.stem import PorterStemmer\n",
    "\n",
    "ps =PorterStemmer()\n",
    "df[\"abstract_new\"] = df[\"abstract_new\"].apply(lambda x: ' '.join([ps.stem(word) for word in x.split() ]))"
   ]
  },
  {
   "cell_type": "code",
   "execution_count": 35,
   "metadata": {},
   "outputs": [
    {
     "data": {
      "text/plain": [
       "(209, 3)"
      ]
     },
     "execution_count": 35,
     "metadata": {},
     "output_type": "execute_result"
    }
   ],
   "source": [
    "df.shape"
   ]
  },
  {
   "cell_type": "code",
   "execution_count": 38,
   "metadata": {},
   "outputs": [],
   "source": [
    "# (16) Common word removal\n",
    "\n",
    "# Checking the first 10 most frequent words or choose 90% of the document = df.shape[0]*0.9\n",
    "from collections import Counter\n",
    "\n",
    "cnt = Counter()\n",
    "for text in df[\"abstract_new\"].values:\n",
    "    for word in text.split():\n",
    "        cnt[word] += 1"
   ]
  },
  {
   "cell_type": "code",
   "execution_count": 39,
   "metadata": {},
   "outputs": [
    {
     "data": {
      "text/plain": [
       "[('growth', 234),\n",
       " ('economi', 233),\n",
       " ('develop', 223),\n",
       " ('inclus', 210),\n",
       " ('green', 193),\n",
       " ('countri', 184),\n",
       " ('fuel', 172),\n",
       " ('econom', 170),\n",
       " ('educ', 149),\n",
       " ('studi', 144)]"
      ]
     },
     "execution_count": 39,
     "metadata": {},
     "output_type": "execute_result"
    }
   ],
   "source": [
    "cnt.most_common(10)\n",
    "# review first and decide!!"
   ]
  },
  {
   "cell_type": "code",
   "execution_count": 42,
   "metadata": {
    "scrolled": true
   },
   "outputs": [],
   "source": [
    "# Removing the frequent words\n",
    "freq = set([w for (w, wc) in cnt.most_common(8)])\n",
    "\n",
    "# function to remove the frequent words\n",
    "def freqwords(text):\n",
    "    return \" \".join([word for word in str(text).split() if word not in freq])\n",
    "\n",
    "# Passing the function freqwords\n",
    "df[\"abstract_new\"] = df[\"abstract_new\"].apply(freqwords)"
   ]
  },
  {
   "cell_type": "code",
   "execution_count": 44,
   "metadata": {},
   "outputs": [],
   "source": [
    "df.to_csv('cleaned_abstracts_update.csv', index=False)"
   ]
  }
 ],
 "metadata": {
  "kernelspec": {
   "display_name": "Python 3",
   "language": "python",
   "name": "python3"
  },
  "language_info": {
   "codemirror_mode": {
    "name": "ipython",
    "version": 3
   },
   "file_extension": ".py",
   "mimetype": "text/x-python",
   "name": "python",
   "nbconvert_exporter": "python",
   "pygments_lexer": "ipython3",
   "version": "3.8.5"
  }
 },
 "nbformat": 4,
 "nbformat_minor": 4
}
